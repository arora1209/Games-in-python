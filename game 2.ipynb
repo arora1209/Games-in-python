{
 "cells": [
  {
   "cell_type": "code",
   "execution_count": 2,
   "metadata": {},
   "outputs": [
    {
     "name": "stdout",
     "output_type": "stream",
     "text": [
      "enter choice  start\n",
      "car running..........\n",
      "enter choice  start\n",
      "car already started\n",
      "enter choice  stop\n",
      "car stopped..........\n",
      "enter choice  stop\n",
      "car already stopped\n",
      "enter choice  quit\n"
     ]
    }
   ],
   "source": [
    "i=''\n",
    "started=False\n",
    "while True:\n",
    "        \n",
    "        i=input('enter choice  ').lower()\n",
    "        if i=='start':\n",
    "        \n",
    "            if started:\n",
    "                print('car already started')\n",
    "            else:\n",
    "                started=True\n",
    "                print('car running..........')\n",
    "        elif i=='stop':\n",
    "            if not started:\n",
    "                print('car already stopped')\n",
    "            else:\n",
    "                started=False\n",
    "                print('car stopped..........')\n",
    "        elif i=='help':\n",
    "            print(\"\"\"\n",
    "            start\n",
    "            stop\n",
    "            help\"\"\")\n",
    "        elif i=='quit':\n",
    "            break\n",
    "        else:\n",
    "            print('command not found')"
   ]
  },
  {
   "cell_type": "code",
   "execution_count": null,
   "metadata": {},
   "outputs": [],
   "source": [
    "    "
   ]
  },
  {
   "cell_type": "code",
   "execution_count": null,
   "metadata": {},
   "outputs": [],
   "source": []
  },
  {
   "cell_type": "code",
   "execution_count": null,
   "metadata": {},
   "outputs": [],
   "source": []
  }
 ],
 "metadata": {
  "kernelspec": {
   "display_name": "Python 3",
   "language": "python",
   "name": "python3"
  },
  "language_info": {
   "codemirror_mode": {
    "name": "ipython",
    "version": 3
   },
   "file_extension": ".py",
   "mimetype": "text/x-python",
   "name": "python",
   "nbconvert_exporter": "python",
   "pygments_lexer": "ipython3",
   "version": "3.7.3"
  }
 },
 "nbformat": 4,
 "nbformat_minor": 2
}
