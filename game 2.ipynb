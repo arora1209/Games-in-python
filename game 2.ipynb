{
 "cells": [
  {
   "cell_type": "code",
   "execution_count": 1,
   "metadata": {},
   "outputs": [
    {
     "name": "stdout",
     "output_type": "stream",
     "text": [
      "enter choice  help\n",
      "\n",
      "            start\n",
      "            stop\n",
      "            help\n",
      "enter choice  HELP\n",
      "\n",
      "            start\n",
      "            stop\n",
      "            help\n",
      "enter choice  start\n",
      "car running..........\n",
      "enter choice  Stop\n",
      "car stopped..........\n",
      "enter choice  fast\n",
      "command not found\n",
      "enter choice  quit\n"
     ]
    }
   ],
   "source": [
    "i=''\n",
    "while i!='quit':\n",
    "        \n",
    "        i=input('enter choice  ').lower()\n",
    "        if i=='start':\n",
    "            print('car running..........')\n",
    "        elif i=='stop':\n",
    "            print('car stopped..........')\n",
    "        elif i=='help':\n",
    "            print(\"\"\"\n",
    "            start\n",
    "            stop\n",
    "            help\"\"\")\n",
    "        elif i=='quit':\n",
    "            break\n",
    "        else:\n",
    "            print('command not found')"
   ]
  },
  {
   "cell_type": "code",
   "execution_count": null,
   "metadata": {},
   "outputs": [],
   "source": []
  },
  {
   "cell_type": "code",
   "execution_count": null,
   "metadata": {},
   "outputs": [],
   "source": [
    "    "
   ]
  },
  {
   "cell_type": "code",
   "execution_count": null,
   "metadata": {},
   "outputs": [],
   "source": []
  },
  {
   "cell_type": "code",
   "execution_count": null,
   "metadata": {},
   "outputs": [],
   "source": []
  }
 ],
 "metadata": {
  "kernelspec": {
   "display_name": "Python 3",
   "language": "python",
   "name": "python3"
  },
  "language_info": {
   "codemirror_mode": {
    "name": "ipython",
    "version": 3
   },
   "file_extension": ".py",
   "mimetype": "text/x-python",
   "name": "python",
   "nbconvert_exporter": "python",
   "pygments_lexer": "ipython3",
   "version": "3.7.3"
  }
 },
 "nbformat": 4,
 "nbformat_minor": 2
}
