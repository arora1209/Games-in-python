{
 "cells": [
  {
   "cell_type": "code",
   "execution_count": 1,
   "metadata": {},
   "outputs": [
    {
     "name": "stdout",
     "output_type": "stream",
     "text": [
      "  enter messagehi (:\n",
      " hi😢\n"
     ]
    }
   ],
   "source": [
    "message=input('  enter message')\n",
    "word=message.split(\" \")\n",
    "emoji={\n",
    "    ':)':\"😊\",\n",
    "    '(:':\"😢\",\n",
    "    ':))':\"😁\"\n",
    "}\n",
    "a=\" \"\n",
    "for i in word:\n",
    "    a=a+emoji.get(i,i)\n",
    "print(a)"
   ]
  },
  {
   "cell_type": "code",
   "execution_count": 2,
   "metadata": {},
   "outputs": [
    {
     "name": "stdout",
     "output_type": "stream",
     "text": [
      "  enter messagehello :))\n",
      " hello😁\n"
     ]
    }
   ],
   "source": [
    "message =input('  enter message  ')\n",
    "word=message.split(\" \")\n",
    "emoji={\n",
    "    ':)':\"😊\",\n",
    "    '(:':\"😢\",\n",
    "    ':))':\"😁\"\n",
    "}\n",
    "a=\" \"\n",
    "for i in word:\n",
    "    a=a+emoji.get(i,i)\n",
    "print(a)"
   ]
  },
  {
   "cell_type": "code",
   "execution_count": 3,
   "metadata": {},
   "outputs": [
    {
     "name": "stdout",
     "output_type": "stream",
     "text": [
      "  enter message  hello :)\n",
      " hello😊\n"
     ]
    }
   ],
   "source": [
    "message =input('  enter message  ')\n",
    "word=message.split(\" \")\n",
    "emoji={\n",
    "    ':)':\"😊\",\n",
    "    '(:':\"😢\",\n",
    "    ':))':\"😁\"\n",
    "}\n",
    "a=\" \"\n",
    "for i in word:\n",
    "    a=a+emoji.get(i,i)\n",
    "print(a)"
   ]
  },
  {
   "cell_type": "code",
   "execution_count": null,
   "metadata": {},
   "outputs": [],
   "source": []
  }
 ],
 "metadata": {
  "kernelspec": {
   "display_name": "Python 3",
   "language": "python",
   "name": "python3"
  },
  "language_info": {
   "codemirror_mode": {
    "name": "ipython",
    "version": 3
   },
   "file_extension": ".py",
   "mimetype": "text/x-python",
   "name": "python",
   "nbconvert_exporter": "python",
   "pygments_lexer": "ipython3",
   "version": "3.7.3"
  }
 },
 "nbformat": 4,
 "nbformat_minor": 2
}
