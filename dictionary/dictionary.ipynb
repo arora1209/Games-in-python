{
 "cells": [
  {
   "cell_type": "code",
   "execution_count": 1,
   "metadata": {},
   "outputs": [],
   "source": [
    "import json"
   ]
  },
  {
   "cell_type": "code",
   "execution_count": 2,
   "metadata": {},
   "outputs": [
    {
     "name": "stdout",
     "output_type": "stream",
     "text": [
      "Collecting difflib\n",
      "Note: you may need to restart the kernel to use updated packages.\n"
     ]
    },
    {
     "name": "stderr",
     "output_type": "stream",
     "text": [
      "  ERROR: Could not find a version that satisfies the requirement difflib (from versions: none)\n",
      "ERROR: No matching distribution found for difflib\n"
     ]
    }
   ],
   "source": [
    "pip install difflib\n"
   ]
  },
  {
   "cell_type": "code",
   "execution_count": 3,
   "metadata": {},
   "outputs": [],
   "source": [
    "from difflib import get_close_matches"
   ]
  },
  {
   "cell_type": "code",
   "execution_count": 4,
   "metadata": {},
   "outputs": [],
   "source": [
    "data=json.load(open('original.json'))"
   ]
  },
  {
   "cell_type": "code",
   "execution_count": 5,
   "metadata": {},
   "outputs": [
    {
     "name": "stdout",
     "output_type": "stream",
     "text": [
      " a , b a\n",
      "enter word : fuel\n",
      "Solid, liquid, or gaseous material such as gas, gasoline, oil, coal or wood, used to produce heat or power by burning.\n",
      " a , b a\n",
      "enter word : Fuel\n",
      "Solid, liquid, or gaseous material such as gas, gasoline, oil, coal or wood, used to produce heat or power by burning.\n",
      " a , b a\n",
      "enter word : Fuel\n",
      "Solid, liquid, or gaseous material such as gas, gasoline, oil, coal or wood, used to produce heat or power by burning.\n",
      " a , b f\n",
      "enter valid choice\n",
      " a , b a\n",
      "enter word : fueo\n",
      "fueo not found in dictionary , similar words : ['fuse', 'fume', 'fuel']\n",
      "None\n",
      " a , b a\n",
      "enter word : book\n",
      "A collection of sheets of paper bound together to hinge at one edge, containing printed or written material, pictures, etc.\n",
      "Part of a larger published work.\n",
      "To record in a register.\n",
      "To arrange for (something for someone else) in advance.\n",
      "To engage for a performance.\n",
      " a , b b\n"
     ]
    }
   ],
   "source": [
    "def dict(word):\n",
    "    if word in data:\n",
    "        return data[word]\n",
    "    else:\n",
    "        a=get_close_matches(word,data.keys(),cutoff=0.5)\n",
    "        print('{} not found in dictionary , similar words : {}'.format(word,a))\n",
    "\n",
    "        \n",
    "while True:\n",
    "    c=input(' a , b ')\n",
    "    if c=='a':\n",
    "        a=input('enter word : ')\n",
    "        word=a.lower()\n",
    "        output=dict(word)\n",
    "        if type(output)==list:\n",
    "            for i in output:\n",
    "                print(i)\n",
    "        else:\n",
    "            print(output)\n",
    "    elif c=='b':\n",
    "        break\n",
    "    else:\n",
    "        print('enter valid choice')\n",
    "    "
   ]
  },
  {
   "cell_type": "code",
   "execution_count": null,
   "metadata": {},
   "outputs": [],
   "source": []
  },
  {
   "cell_type": "code",
   "execution_count": null,
   "metadata": {},
   "outputs": [],
   "source": []
  }
 ],
 "metadata": {
  "kernelspec": {
   "display_name": "Python 3",
   "language": "python",
   "name": "python3"
  },
  "language_info": {
   "codemirror_mode": {
    "name": "ipython",
    "version": 3
   },
   "file_extension": ".py",
   "mimetype": "text/x-python",
   "name": "python",
   "nbconvert_exporter": "python",
   "pygments_lexer": "ipython3",
   "version": "3.7.3"
  }
 },
 "nbformat": 4,
 "nbformat_minor": 2
}
