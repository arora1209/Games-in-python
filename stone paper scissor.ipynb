{
 "cells": [
  {
   "cell_type": "code",
   "execution_count": 1,
   "metadata": {},
   "outputs": [
    {
     "name": "stdout",
     "output_type": "stream",
     "text": [
      "round  1\n",
      "enter choice stone\n",
      "com choice = scissor\n",
      "you win\n",
      "round  2\n",
      "enter choice paper\n",
      "com choice = stone\n",
      "you win\n",
      "round  3\n",
      "enter choice scissor\n",
      "com choice = stone\n",
      "com win\n",
      "\n",
      "***scores***\n",
      "com=1 your=2\n",
      "you win\n"
     ]
    }
   ],
   "source": [
    "import random\n",
    "a=['stone' ,'paper', 'scissor']\n",
    "c=0\n",
    "y=0\n",
    "\n",
    "for i in range(3):\n",
    "    print('round ',i+1)\n",
    "    com=random.choice(a)\n",
    "    you=input('enter choice ')\n",
    "    print('com choice =',com)\n",
    "   \n",
    "   \n",
    "    if com=='stone':\n",
    "        if you=='paper':\n",
    "            y=y+1\n",
    "            print('you win')\n",
    "        elif you=='stone':\n",
    "            print('draw')\n",
    "        else:\n",
    "            c=c+1\n",
    "            print('com win')\n",
    "    elif com=='paper':\n",
    "        if you=='scissor':\n",
    "            y=y+1\n",
    "            print('you win')\n",
    "        elif you=='paper':\n",
    "            print('draw')\n",
    "        else:\n",
    "            c=c+1\n",
    "            print('com win')\n",
    "    elif com=='scissor':\n",
    "        if you=='stone':\n",
    "            y=y+1\n",
    "            print('you win')\n",
    "        elif you=='scissor':\n",
    "            print('draw')\n",
    "        else:\n",
    "            c=c+1\n",
    "            print('com win')\n",
    "score=f'''\n",
    "***scores***\n",
    "com={c} your={y}'''\n",
    "print(score)\n",
    "if c>y:\n",
    "    print('computer wins')\n",
    "elif y>c:\n",
    "    print('you win')\n",
    "else:\n",
    "    print('its a draw')"
   ]
  },
  {
   "cell_type": "code",
   "execution_count": null,
   "metadata": {},
   "outputs": [],
   "source": []
  }
 ],
 "metadata": {
  "kernelspec": {
   "display_name": "Python 3",
   "language": "python",
   "name": "python3"
  },
  "language_info": {
   "codemirror_mode": {
    "name": "ipython",
    "version": 3
   },
   "file_extension": ".py",
   "mimetype": "text/x-python",
   "name": "python",
   "nbconvert_exporter": "python",
   "pygments_lexer": "ipython3",
   "version": "3.7.3"
  }
 },
 "nbformat": 4,
 "nbformat_minor": 2
}
