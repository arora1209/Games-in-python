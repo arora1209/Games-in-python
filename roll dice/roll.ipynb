{
 "cells": [
  {
   "cell_type": "code",
   "execution_count": 1,
   "metadata": {},
   "outputs": [],
   "source": [
    "import import_ipynb\n"
   ]
  },
  {
   "cell_type": "code",
   "execution_count": 3,
   "metadata": {},
   "outputs": [],
   "source": [
    "import dice"
   ]
  },
  {
   "cell_type": "code",
   "execution_count": 4,
   "metadata": {},
   "outputs": [
    {
     "name": "stdout",
     "output_type": "stream",
     "text": [
      "enter a for roll dice \n",
      "        b for exit :  a\n",
      "numbers on dice are : \n",
      "(3, 3)\n",
      "enter a for roll dice \n",
      "        b for exit :  a\n",
      "numbers on dice are : \n",
      "(5, 1)\n",
      "enter a for roll dice \n",
      "        b for exit :  a\n",
      "numbers on dice are : \n",
      "(5, 5)\n",
      "enter a for roll dice \n",
      "        b for exit :  a\n",
      "numbers on dice are : \n",
      "(2, 4)\n",
      "enter a for roll dice \n",
      "        b for exit :  a\n",
      "numbers on dice are : \n",
      "(1, 1)\n",
      "enter a for roll dice \n",
      "        b for exit :  b\n",
      "quit...\n"
     ]
    }
   ],
   "source": [
    "dice.roll_dice()"
   ]
  },
  {
   "cell_type": "code",
   "execution_count": null,
   "metadata": {},
   "outputs": [],
   "source": []
  }
 ],
 "metadata": {
  "kernelspec": {
   "display_name": "Python 3",
   "language": "python",
   "name": "python3"
  },
  "language_info": {
   "codemirror_mode": {
    "name": "ipython",
    "version": 3
   },
   "file_extension": ".py",
   "mimetype": "text/x-python",
   "name": "python",
   "nbconvert_exporter": "python",
   "pygments_lexer": "ipython3",
   "version": "3.7.3"
  }
 },
 "nbformat": 4,
 "nbformat_minor": 2
}
