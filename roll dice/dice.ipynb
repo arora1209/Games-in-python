{
 "cells": [
  {
   "cell_type": "code",
   "execution_count": 2,
   "metadata": {},
   "outputs": [],
   "source": [
    "import random\n",
    "class Dice:\n",
    "    def roll(self):\n",
    "         return random.randint(1,6),random.randint(1,6)\n",
    "o=Dice()\n",
    "\n",
    "def roll_dice():\n",
    "    while True:\n",
    "        c=input('''enter a for roll dice \n",
    "        b for exit :  ''')\n",
    "        if c=='a':\n",
    "            print('numbers on dice are : ')\n",
    "            print(o.roll())\n",
    "        elif c=='b':\n",
    "            print('quit...')\n",
    "            break\n",
    "            "
   ]
  },
  {
   "cell_type": "code",
   "execution_count": null,
   "metadata": {},
   "outputs": [],
   "source": []
  }
 ],
 "metadata": {
  "kernelspec": {
   "display_name": "Python 3",
   "language": "python",
   "name": "python3"
  },
  "language_info": {
   "codemirror_mode": {
    "name": "ipython",
    "version": 3
   },
   "file_extension": ".py",
   "mimetype": "text/x-python",
   "name": "python",
   "nbconvert_exporter": "python",
   "pygments_lexer": "ipython3",
   "version": "3.7.3"
  }
 },
 "nbformat": 4,
 "nbformat_minor": 2
}
