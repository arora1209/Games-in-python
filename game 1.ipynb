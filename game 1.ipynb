{
 "cells": [
  {
   "cell_type": "code",
   "execution_count": 1,
   "metadata": {},
   "outputs": [
    {
     "name": "stdout",
     "output_type": "stream",
     "text": [
      "you have 3 chance to guess the number\n",
      "all th best!\n",
      "chance:  1\n",
      "1-93\n",
      "try again\n",
      "chance:  2\n",
      "1-94\n",
      "correct you win\n"
     ]
    }
   ],
   "source": [
    "n=4\n",
    "i=1\n",
    "print('you have 3 chance to guess the number')\n",
    "print('all th best!')\n",
    "while i<=3:\n",
    "    print('chance: ',i)\n",
    "    \n",
    "    g=input('1-9')\n",
    "    if int(g)==n:\n",
    "        print('correct you win')\n",
    "        break\n",
    "    else:\n",
    "        if i==3:\n",
    "            print('game over')\n",
    "        else:\n",
    "            print('try again')\n",
    "        i=i+1"
   ]
  },
  {
   "cell_type": "code",
   "execution_count": null,
   "metadata": {},
   "outputs": [],
   "source": []
  }
 ],
 "metadata": {
  "kernelspec": {
   "display_name": "Python 3",
   "language": "python",
   "name": "python3"
  },
  "language_info": {
   "codemirror_mode": {
    "name": "ipython",
    "version": 3
   },
   "file_extension": ".py",
   "mimetype": "text/x-python",
   "name": "python",
   "nbconvert_exporter": "python",
   "pygments_lexer": "ipython3",
   "version": "3.7.3"
  }
 },
 "nbformat": 4,
 "nbformat_minor": 2
}
